{
  "nbformat": 4,
  "nbformat_minor": 0,
  "metadata": {
    "colab": {
      "name": "Untitled2.ipynb",
      "provenance": [],
      "authorship_tag": "ABX9TyN2opxbDTmm6emgohNxxNYL",
      "include_colab_link": true
    },
    "kernelspec": {
      "name": "python3",
      "display_name": "Python 3"
    },
    "language_info": {
      "name": "python"
    }
  },
  "cells": [
    {
      "cell_type": "markdown",
      "metadata": {
        "id": "view-in-github",
        "colab_type": "text"
      },
      "source": [
        "<a href=\"https://colab.research.google.com/github/bsudharshan2001/MyRespository/blob/master/College/Semester-5/19CSE304-DataScience/Class%202%20-%2019-07-2021%20-%20Data%20Extraction%20from%20CSV%20Files.ipynb\" target=\"_parent\"><img src=\"https://colab.research.google.com/assets/colab-badge.svg\" alt=\"Open In Colab\"/></a>"
      ]
    },
    {
      "cell_type": "code",
      "metadata": {
        "colab": {
          "base_uri": "https://localhost:8080/"
        },
        "id": "QYktJnuJfs3h",
        "outputId": "fa2f09b1-cd82-4ded-869d-f856b2da15d5"
      },
      "source": [
        "import pandas as pd\n",
        "data=pd.read_csv('uk-500.csv')\n",
        "data.describe()\n",
        "data.info()\n",
        "data.shape"
      ],
      "execution_count": 7,
      "outputs": [
        {
          "output_type": "stream",
          "text": [
            "<class 'pandas.core.frame.DataFrame'>\n",
            "RangeIndex: 500 entries, 0 to 499\n",
            "Data columns (total 11 columns):\n",
            " #   Column        Non-Null Count  Dtype \n",
            "---  ------        --------------  ----- \n",
            " 0   first_name    500 non-null    object\n",
            " 1   last_name     500 non-null    object\n",
            " 2   company_name  500 non-null    object\n",
            " 3   address       500 non-null    object\n",
            " 4   city          500 non-null    object\n",
            " 5   county        500 non-null    object\n",
            " 6   postal        500 non-null    object\n",
            " 7   phone1        500 non-null    object\n",
            " 8   phone2        500 non-null    object\n",
            " 9   email         500 non-null    object\n",
            " 10  web           500 non-null    object\n",
            "dtypes: object(11)\n",
            "memory usage: 43.1+ KB\n"
          ],
          "name": "stdout"
        },
        {
          "output_type": "execute_result",
          "data": {
            "text/plain": [
              "(500, 11)"
            ]
          },
          "metadata": {
            "tags": []
          },
          "execution_count": 7
        }
      ]
    },
    {
      "cell_type": "markdown",
      "metadata": {
        "id": "YNjz6LNpf_SJ"
      },
      "source": [
        "***Dataframe Indexing***"
      ]
    },
    {
      "cell_type": "code",
      "metadata": {
        "colab": {
          "base_uri": "https://localhost:8080/"
        },
        "id": "_v5O6XYggCgC",
        "outputId": "d93e3e10-76be-438a-923b-bc5f8d5ef5ed"
      },
      "source": [
        "data.iloc[0]"
      ],
      "execution_count": 3,
      "outputs": [
        {
          "output_type": "execute_result",
          "data": {
            "text/plain": [
              "first_name                                   Aleshia\n",
              "last_name                                 Tomkiewicz\n",
              "company_name                 Alan D Rosenburg Cpa Pc\n",
              "address                                 14 Taylor St\n",
              "city                               St. Stephens Ward\n",
              "county                                          Kent\n",
              "postal                                       CT2 7PP\n",
              "phone1                                  01835-703597\n",
              "phone2                                  01944-369967\n",
              "email                        atomkiewicz@hotmail.com\n",
              "web             http://www.alandrosenburgcpapc.co.uk\n",
              "Name: 0, dtype: object"
            ]
          },
          "metadata": {
            "tags": []
          },
          "execution_count": 3
        }
      ]
    },
    {
      "cell_type": "code",
      "metadata": {
        "colab": {
          "base_uri": "https://localhost:8080/"
        },
        "id": "mYNWk289gM1D",
        "outputId": "3e898c4d-b830-4afe-b27e-b1c626ef790e"
      },
      "source": [
        "data.iloc[1]"
      ],
      "execution_count": 4,
      "outputs": [
        {
          "output_type": "execute_result",
          "data": {
            "text/plain": [
              "first_name                                   Evan\n",
              "last_name                               Zigomalas\n",
              "company_name                   Cap Gemini America\n",
              "address                               5 Binney St\n",
              "city                                   Abbey Ward\n",
              "county                            Buckinghamshire\n",
              "postal                                   HP11 2AX\n",
              "phone1                               01937-864715\n",
              "phone2                               01714-737668\n",
              "email                    evan.zigomalas@gmail.com\n",
              "web             http://www.capgeminiamerica.co.uk\n",
              "Name: 1, dtype: object"
            ]
          },
          "metadata": {
            "tags": []
          },
          "execution_count": 4
        }
      ]
    },
    {
      "cell_type": "code",
      "metadata": {
        "colab": {
          "base_uri": "https://localhost:8080/"
        },
        "id": "IG8T7VwLgP2h",
        "outputId": "b8141272-593e-4a41-9a14-9df3e265e5af"
      },
      "source": [
        "data.iloc[-1]"
      ],
      "execution_count": 5,
      "outputs": [
        {
          "output_type": "execute_result",
          "data": {
            "text/plain": [
              "first_name                                               Mi\n",
              "last_name                                            Richan\n",
              "company_name                 Nelson Wright Haworth Golf Crs\n",
              "address                                     6 Norwood Grove\n",
              "city                                      Tanworth-in-Arden\n",
              "county                                         Warwickshire\n",
              "postal                                              B94 5RZ\n",
              "phone1                                         01451-785624\n",
              "phone2                                         01202-738406\n",
              "email                                        mi@hotmail.com\n",
              "web             http://www.nelsonwrighthaworthgolfcrs.co.uk\n",
              "Name: 499, dtype: object"
            ]
          },
          "metadata": {
            "tags": []
          },
          "execution_count": 5
        }
      ]
    },
    {
      "cell_type": "markdown",
      "metadata": {
        "id": "Bv25-EaTgqsO"
      },
      "source": [
        "***Selecting Colums***"
      ]
    },
    {
      "cell_type": "code",
      "metadata": {
        "colab": {
          "base_uri": "https://localhost:8080/"
        },
        "id": "IK1bTzLCguBK",
        "outputId": "e8bf5f60-b4f4-4f5d-a2ee-7586f348aa48"
      },
      "source": [
        "data.iloc[:,0]"
      ],
      "execution_count": 8,
      "outputs": [
        {
          "output_type": "execute_result",
          "data": {
            "text/plain": [
              "0        Aleshia\n",
              "1           Evan\n",
              "2         France\n",
              "3        Ulysses\n",
              "4         Tyisha\n",
              "         ...    \n",
              "495        Avery\n",
              "496         Reid\n",
              "497    Charlette\n",
              "498    Celestina\n",
              "499           Mi\n",
              "Name: first_name, Length: 500, dtype: object"
            ]
          },
          "metadata": {
            "tags": []
          },
          "execution_count": 8
        }
      ]
    },
    {
      "cell_type": "code",
      "metadata": {
        "id": "uXKVifwDhZX8"
      },
      "source": [
        "data.iloc[[0]]"
      ],
      "execution_count": null,
      "outputs": []
    },
    {
      "cell_type": "code",
      "metadata": {
        "id": "f1EuJYPchd4R"
      },
      "source": [
        "data.iloc[0:5,5:8]"
      ],
      "execution_count": null,
      "outputs": []
    },
    {
      "cell_type": "code",
      "metadata": {
        "id": "974XfINrhh7z"
      },
      "source": [
        "data.set_index(\"last_name\",inplace=True)\n",
        "data.head()"
      ],
      "execution_count": null,
      "outputs": []
    },
    {
      "cell_type": "code",
      "metadata": {
        "id": "giWp7SMMhzJE"
      },
      "source": [
        "data.loc[['Andrade','Veness'],'city':'email']"
      ],
      "execution_count": null,
      "outputs": []
    },
    {
      "cell_type": "code",
      "metadata": {
        "id": "V1OQEwiIh_cO"
      },
      "source": [
        "data.loc[['Andrade','Veness'],]"
      ],
      "execution_count": null,
      "outputs": []
    },
    {
      "cell_type": "code",
      "metadata": {
        "id": "JMQeP8FAiRFh"
      },
      "source": [
        ""
      ],
      "execution_count": null,
      "outputs": []
    },
    {
      "cell_type": "code",
      "metadata": {
        "id": "TUv2eROLiEhG"
      },
      "source": [
        "data.loc[data['first_name']]"
      ],
      "execution_count": null,
      "outputs": []
    },
    {
      "cell_type": "markdown",
      "metadata": {
        "id": "v6zLgv87iJHm"
      },
      "source": [
        "***iloc - Based on the Index***\n",
        "\n",
        "***loc - Based on the values on the Record***"
      ]
    },
    {
      "cell_type": "code",
      "metadata": {
        "id": "io2PeB7aidDl"
      },
      "source": [
        ""
      ],
      "execution_count": null,
      "outputs": []
    }
  ]
}