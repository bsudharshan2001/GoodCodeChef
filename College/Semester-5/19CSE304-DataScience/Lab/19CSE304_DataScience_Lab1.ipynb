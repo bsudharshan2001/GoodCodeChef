{
  "nbformat": 4,
  "nbformat_minor": 0,
  "metadata": {
    "colab": {
      "name": "19CSE304_DataScience_Lab1.ipynb",
      "provenance": [],
      "authorship_tag": "ABX9TyMCTfhxeaBGOGQeHOLfkalh",
      "include_colab_link": true
    },
    "kernelspec": {
      "name": "python3",
      "display_name": "Python 3"
    },
    "language_info": {
      "name": "python"
    }
  },
  "cells": [
    {
      "cell_type": "markdown",
      "metadata": {
        "id": "view-in-github",
        "colab_type": "text"
      },
      "source": [
        "<a href=\"https://colab.research.google.com/github/bsudharshan2001/MyRespository/blob/master/College/Semester-5/19CSE304-DataScience/Lab/19CSE304_DataScience_Lab1.ipynb\" target=\"_parent\"><img src=\"https://colab.research.google.com/assets/colab-badge.svg\" alt=\"Open In Colab\"/></a>"
      ]
    },
    {
      "cell_type": "markdown",
      "metadata": {
        "id": "b0Jw18kwIjtp"
      },
      "source": [
        "First Session in Foundation of Data Science (19CSE304) - Lab 1 - 14th July 2021 - 5th Semester"
      ]
    },
    {
      "cell_type": "code",
      "metadata": {
        "colab": {
          "base_uri": "https://localhost:8080/"
        },
        "id": "EdlCo-eBIHQO",
        "outputId": "58ad902f-cc50-483d-9076-da53af5f1b80"
      },
      "source": [
        "print('Hello 19CSE204')"
      ],
      "execution_count": 1,
      "outputs": [
        {
          "output_type": "stream",
          "text": [
            "Hello 19CSE204\n"
          ],
          "name": "stdout"
        }
      ]
    }
  ]
}