{
  "nbformat": 4,
  "nbformat_minor": 0,
  "metadata": {
    "colab": {
      "name": "Untitled0.ipynb",
      "provenance": [],
      "authorship_tag": "ABX9TyM9At0BtsVtYpj0Kz5RUARh",
      "include_colab_link": true
    },
    "kernelspec": {
      "name": "python3",
      "display_name": "Python 3"
    },
    "language_info": {
      "name": "python"
    }
  },
  "cells": [
    {
      "cell_type": "markdown",
      "metadata": {
        "id": "view-in-github",
        "colab_type": "text"
      },
      "source": [
        "<a href=\"https://colab.research.google.com/github/bsudharshan2001/MyRespository/blob/master/College/Semester-5/19CSE302-DataAnalysis/19CSE302-Lab1-DataAnalysis.ipynb\" target=\"_parent\"><img src=\"https://colab.research.google.com/assets/colab-badge.svg\" alt=\"Open In Colab\"/></a>"
      ]
    },
    {
      "cell_type": "code",
      "metadata": {
        "colab": {
          "base_uri": "https://localhost:8080/"
        },
        "id": "eml3h7jqRQXN",
        "outputId": "093a71df-dd8f-4c34-9785-cb4d06ccc4a8"
      },
      "source": [
        "import random\n",
        "def bubbleSort(arr):\n",
        "    n = len(arr)\n",
        "    for i in range(n):\n",
        "        for j in range(0, n-i-1):\n",
        "            if arr[j] > arr[j+1] :\n",
        "                arr[j], arr[j+1] = arr[j+1], arr[j]\n",
        "arr = random.sample(range(0, 500), 500)\n",
        "%time bubbleSort(arr)"
      ],
      "execution_count": 69,
      "outputs": [
        {
          "output_type": "stream",
          "text": [
            "CPU times: user 31.5 ms, sys: 0 ns, total: 31.5 ms\n",
            "Wall time: 33.9 ms\n"
          ],
          "name": "stdout"
        }
      ]
    },
    {
      "cell_type": "code",
      "metadata": {
        "colab": {
          "base_uri": "https://localhost:8080/"
        },
        "id": "o_sxjtqMRWeQ",
        "outputId": "c1978ba6-3dda-4174-c406-98ce56918941"
      },
      "source": [
        "import sys\n",
        "import random\n",
        "def selection(A):\n",
        "  for i in range(len(A)):\n",
        "     min_idx = i\n",
        "     for j in range(i+1, len(A)):\n",
        "         if A[min_idx] > A[j]:\n",
        "             min_idx = j      \n",
        "     A[i], A[min_idx] = A[min_idx], A[i]\n",
        " \n",
        "A = random.sample(range(0, 500), 500)\n",
        "%time selection(A)"
      ],
      "execution_count": 75,
      "outputs": [
        {
          "output_type": "stream",
          "text": [
            "CPU times: user 13.5 ms, sys: 8 µs, total: 13.5 ms\n",
            "Wall time: 16.4 ms\n"
          ],
          "name": "stdout"
        }
      ]
    },
    {
      "cell_type": "code",
      "metadata": {
        "colab": {
          "base_uri": "https://localhost:8080/"
        },
        "id": "aP0DlSfvRaTE",
        "outputId": "d23c1416-f1f3-4048-d412-804e71f613ea"
      },
      "source": [
        "import random\n",
        "def partition(arr, low, high):\n",
        "    i = (low-1)       \n",
        "    pivot = arr[high]   \n",
        "    for j in range(low, high):\n",
        "        if arr[j] <= pivot:\n",
        "            i = i+1\n",
        "            arr[i], arr[j] = arr[j], arr[i]\n",
        "  \n",
        "    arr[i+1], arr[high] = arr[high], arr[i+1]\n",
        "    return (i+1)\n",
        "  \n",
        "def quickSort(arr, low, high):\n",
        "    if len(arr) == 1:\n",
        "        return arr\n",
        "    if low < high:\n",
        "        pi = partition(arr, low, high)\n",
        "        quickSort(arr, low, pi-1)\n",
        "        quickSort(arr, pi+1, high)\n",
        "\n",
        "arr = random.sample(range(0, 500), 500)\n",
        "n = len(arr)\n",
        "%time quickSort(arr, 0, n-1)"
      ],
      "execution_count": 80,
      "outputs": [
        {
          "output_type": "stream",
          "text": [
            "CPU times: user 1.13 ms, sys: 3 µs, total: 1.13 ms\n",
            "Wall time: 1.14 ms\n"
          ],
          "name": "stdout"
        }
      ]
    },
    {
      "cell_type": "code",
      "metadata": {
        "colab": {
          "base_uri": "https://localhost:8080/"
        },
        "id": "jSLifbFgRkHF",
        "outputId": "25e4ae9d-40c5-4ce5-85e2-d663113e811f"
      },
      "source": [
        "class Node:\n",
        "     \n",
        "    def __init__(self, data=0):\n",
        "        self.data = data\n",
        "        self.next = None\n",
        "        self.prev = None\n",
        "         \n",
        "def newNode(x):\n",
        " \n",
        "    temp = Node(0)\n",
        "    temp.data = x\n",
        "    temp.next = None\n",
        "    return temp\n",
        "\n",
        "def middle(start, last):\n",
        "    if (start == None):\n",
        "        return None\n",
        "    slow = start\n",
        "    fast = start . next\n",
        "    while (fast != last):\n",
        "        fast = fast . next\n",
        "        if (fast != last):\n",
        "            slow = slow . next\n",
        "            fast = fast . next\n",
        "    return slow\n",
        "\n",
        "def binarySearch(head,value):\n",
        "    start = head\n",
        "    last = None \n",
        "    while True :    \n",
        "        mid = middle(start, last)\n",
        "        if (mid == None):\n",
        "            return None\n",
        "        if (mid . data == value):\n",
        "            return mid\n",
        "        elif (mid . data < value):\n",
        "            start = mid . next\n",
        "        else:\n",
        "            last = mid\n",
        "        if not (last == None or last != start):\n",
        "            break\n",
        "    return None\n",
        " \n",
        "\n",
        "head=Node()\n",
        "temp=head\n",
        "for i in range(0,10):\n",
        "    val = random.randint(0,10)\n",
        "    temp.val=val\n",
        "    temp.next=Node()\n",
        "    temp=temp.next\n",
        "\n",
        "%time binarySearch(head, val)\n",
        "   "
      ],
      "execution_count": 99,
      "outputs": [
        {
          "output_type": "stream",
          "text": [
            "CPU times: user 9 µs, sys: 0 ns, total: 9 µs\n",
            "Wall time: 13.6 µs\n"
          ],
          "name": "stdout"
        }
      ]
    }
  ]
}